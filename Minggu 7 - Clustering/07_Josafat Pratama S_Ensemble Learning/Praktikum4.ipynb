{
 "cells": [
  {
   "cell_type": "code",
   "execution_count": 30,
   "metadata": {},
   "outputs": [],
   "source": [
    "import numpy as np\n",
    "import matplotlib.pyplot as plt\n",
    "from skimage import io"
   ]
  },
  {
   "cell_type": "code",
   "execution_count": 31,
   "metadata": {},
   "outputs": [],
   "source": [
    "# Fungsi untuk menginisialisasi bobot SOM\n",
    "def initialize_weights(input_shape, output_shape):\n",
    "    return np.random.rand(output_shape[0], output_shape[1], input_shape[2])"
   ]
  },
  {
   "cell_type": "code",
   "execution_count": 32,
   "metadata": {},
   "outputs": [],
   "source": [
    "# Fungsi untuk menghitung jarak antara vektor input dan bobot SOM\n",
    "def calculate_distance(input_vector, weights):\n",
    "    return np.linalg.norm(input_vector - weights, axis=2)"
   ]
  },
  {
   "cell_type": "code",
   "execution_count": 33,
   "metadata": {},
   "outputs": [],
   "source": [
    "# Fungsi untuk menemukan indeks unit pemenang (unit dengan bobot terdekat)\n",
    "def find_winner_unit_in_image(input_vector, weights):\n",
    "    distances = calculate_distance(input_vector, weights)\n",
    "    return np.unravel_index(np.argmin(distances), distances.shape)"
   ]
  },
  {
   "cell_type": "code",
   "execution_count": 34,
   "metadata": {},
   "outputs": [],
   "source": [
    "# Fungsi untuk memperbarui bobot SOM\n",
    "def update_weights(input_vector, weights, winner, learning_rate, neighborhood_radius):\n",
    "    distances = np.linalg.norm(np.indices(weights.shape[:2]).T - np.array(winner).reshape(1, -1), axis=2)\n",
    "    influence = np.exp(-distances / (2 * neighborhood_radius**2))\n",
    "    weights += learning_rate * influence[:, :, np.newaxis] * (input_vector - weights)"
   ]
  },
  {
   "cell_type": "code",
   "execution_count": 35,
   "metadata": {},
   "outputs": [],
   "source": [
    "# Fungsi untuk melatih SOM\n",
    "def train_som(image, num_epochs, initial_learning_rate, initial_neighborhood_radius):\n",
    "    input_shape = image.shape\n",
    "    som_shape = (10, 10, input_shape[2])  # Ukuran SOM sesuai dengan jumlah saluran warna\n",
    "    weights = initialize_weights(input_shape, som_shape)\n",
    "\n",
    "    for epoch in range(num_epochs):\n",
    "        # Update parameter pembelajaran dan radius tetangga\n",
    "        learning_rate = initial_learning_rate * np.exp(-epoch / num_epochs)\n",
    "        neighborhood_radius = initial_neighborhood_radius * np.exp(-epoch / num_epochs)\n",
    "        # Pemrosesan SOM\n",
    "        for i in range(input_shape[0]):\n",
    "            for j in range(input_shape[1]):\n",
    "                input_vector = image[i, j, :]\n",
    "                winner = find_winner_unit_in_image(input_vector, weights)\n",
    "                update_weights(input_vector, weights, winner, learning_rate, neighborhood_radius)\n",
    "\n",
    "    return weights"
   ]
  },
  {
   "cell_type": "code",
   "execution_count": 40,
   "metadata": {},
   "outputs": [
    {
     "ename": "SyntaxError",
     "evalue": "not a PNG file (<string>)",
     "output_type": "error",
     "traceback": [
      "Traceback \u001b[1;36m(most recent call last)\u001b[0m:\n",
      "\u001b[0m  File \u001b[0;32mc:\\ProgramData\\anaconda3\\Lib\\site-packages\\IPython\\core\\interactiveshell.py:3505\u001b[0m in \u001b[0;35mrun_code\u001b[0m\n    exec(code_obj, self.user_global_ns, self.user_ns)\u001b[0m\n",
      "\u001b[0m  Cell \u001b[0;32mIn[40], line 3\u001b[0m\n    Lenna = io.imread(Lenna_path, plugin='matplotlib') / 255.0  # Normalisasi intensitas piksel menjadi rentang [0, 1]\u001b[0m\n",
      "\u001b[0m  File \u001b[0;32mc:\\ProgramData\\anaconda3\\Lib\\site-packages\\skimage\\io\\_io.py:53\u001b[0m in \u001b[0;35mimread\u001b[0m\n    img = call_plugin('imread', fname, plugin=plugin, **plugin_args)\u001b[0m\n",
      "\u001b[0m  File \u001b[0;32mc:\\ProgramData\\anaconda3\\Lib\\site-packages\\skimage\\io\\manage_plugins.py:205\u001b[0m in \u001b[0;35mcall_plugin\u001b[0m\n    return func(*args, **kwargs)\u001b[0m\n",
      "\u001b[0m  File \u001b[0;32mc:\\ProgramData\\anaconda3\\Lib\\site-packages\\skimage\\io\\_plugins\\matplotlib_plugin.py:204\u001b[0m in \u001b[0;35mimread\u001b[0m\n    return matplotlib.image.imread(*args, **kwargs)\u001b[0m\n",
      "\u001b[0m  File \u001b[0;32mc:\\ProgramData\\anaconda3\\Lib\\site-packages\\matplotlib\\image.py:1563\u001b[0m in \u001b[0;35mimread\u001b[0m\n    with img_open(fname) as image:\u001b[0m\n",
      "\u001b[0m  File \u001b[0;32mc:\\ProgramData\\anaconda3\\Lib\\site-packages\\PIL\\ImageFile.py:117\u001b[0m in \u001b[0;35m__init__\u001b[0m\n    self._open()\u001b[0m\n",
      "\u001b[1;36m  File \u001b[1;32mc:\\ProgramData\\anaconda3\\Lib\\site-packages\\PIL\\PngImagePlugin.py:732\u001b[1;36m in \u001b[1;35m_open\u001b[1;36m\n\u001b[1;33m    raise SyntaxError(msg)\u001b[1;36m\n",
      "\u001b[1;36m  File \u001b[1;32m<string>\u001b[1;36m\u001b[0m\n\u001b[1;31mSyntaxError\u001b[0m\u001b[1;31m:\u001b[0m not a PNG file\n"
     ]
    }
   ],
   "source": [
    "# Load citra Lenna (Anda bisa mengganti ini dengan citra lain jika diperlukan)\n",
    "Lenna_path = \"data/Lenna.png\"\n",
    "Lenna = io.imread(Lenna_path, plugin='matplotlib') / 255.0  # Normalisasi intensitas piksel menjadi rentang [0, 1]"
   ]
  },
  {
   "cell_type": "code",
   "execution_count": null,
   "metadata": {},
   "outputs": [],
   "source": []
  }
 ],
 "metadata": {
  "kernelspec": {
   "display_name": "base",
   "language": "python",
   "name": "python3"
  },
  "language_info": {
   "codemirror_mode": {
    "name": "ipython",
    "version": 3
   },
   "file_extension": ".py",
   "mimetype": "text/x-python",
   "name": "python",
   "nbconvert_exporter": "python",
   "pygments_lexer": "ipython3",
   "version": "3.11.4"
  }
 },
 "nbformat": 4,
 "nbformat_minor": 2
}
