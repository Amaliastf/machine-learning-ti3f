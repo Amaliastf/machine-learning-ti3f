{
 "cells": [
  {
   "cell_type": "code",
   "execution_count": 1,
   "metadata": {},
   "outputs": [],
   "source": [
    "#Langkah 1\n",
    "# Mengimpor library\n",
    "import numpy as np\n",
    "import matplotlib.pyplot as plt\n",
    "import pandas as pd"
   ]
  },
  {
   "cell_type": "code",
   "execution_count": 2,
   "metadata": {},
   "outputs": [],
   "source": [
    "# Langkah 2\n",
    "# Mengimpor dataset (Pastikan Anda memiliki file CSV 'Posisi_gaji.csv' dalam direktori yang sama)\n",
    "# Membaca data Posisi_gaji.csv yang telah disimpan dalam folder yang sama dan mengambil variabel x sebagai independen dan y sebagai dependen\n",
    "dataset = pd.read_csv('Posisi_gaji.csv')\n",
    "X = dataset.iloc[:, 1:2].values\n",
    "y = dataset.iloc[:, 2].values  # Ubah menjadi satu kolom saja"
   ]
  },
  {
   "cell_type": "code",
   "execution_count": 4,
   "metadata": {},
   "outputs": [],
   "source": [
    "# Langkah 3\n",
    "# Feature Scaling\n",
    "# Melakukan penskalaan fitur X dan target y menggunakan StandardScaler\n",
    "from sklearn.preprocessing import StandardScaler\n",
    "\n",
    "# Menginisialisi objek untuk x dan y\n",
    "sc_X = StandardScaler()\n",
    "sc_y = StandardScaler()\n",
    "\n",
    "#Melakukan penskalaan data x dan y, hasil akhirnya akan dinormalisasikan ke bentuk yang beragam\n",
    "X = sc_X.fit_transform(X.reshape(-1, 1))\n",
    "y = sc_y.fit_transform(y.reshape(-1, 1))"
   ]
  },
  {
   "cell_type": "code",
   "execution_count": 5,
   "metadata": {},
   "outputs": [
    {
     "name": "stderr",
     "output_type": "stream",
     "text": [
      "c:\\Users\\Hp\\anaconda3\\lib\\site-packages\\sklearn\\utils\\validation.py:63: DataConversionWarning: A column-vector y was passed when a 1d array was expected. Please change the shape of y to (n_samples, ), for example using ravel().\n",
      "  return f(*args, **kwargs)\n"
     ]
    },
    {
     "data": {
      "text/plain": [
       "SVR()"
      ]
     },
     "execution_count": 5,
     "metadata": {},
     "output_type": "execute_result"
    }
   ],
   "source": [
    "# Langkah 4\n",
    "# Fitting SVR ke dataset\n",
    "from sklearn.svm import SVR\n",
    "\n",
    "# Melakukan inisialisasi model SVR menggunakan kenel RBF untuk mengukur jarak antara titik data\n",
    "regressor = SVR(kernel='rbf')\n",
    "\n",
    "# Melatih data x dan y yang sebelumnya telah dinormalisasi\n",
    "regressor.fit(X, y)"
   ]
  },
  {
   "cell_type": "code",
   "execution_count": 6,
   "metadata": {},
   "outputs": [
    {
     "data": {
      "image/png": "[encoded data removed]",
      "text/plain": [
       "<Figure size 432x288 with 1 Axes>"
      ]
     },
     "metadata": {
      "needs_background": "light"
     },
     "output_type": "display_data"
    }
   ],
   "source": [
    "# Langkah 5\n",
    "# Visualisasi hasil SVR (resolusi tinggi dan kurva yang lebih halus)\n",
    "# Membuat X_grid untuk visualisasi\n",
    "X_grid = np.arange(min(X), max(X), 0.01).reshape(-1, 1)\n",
    "\n",
    "# Membuat Scatter plot data asli\n",
    "plt.scatter(X, y, color='red')\n",
    "\n",
    "# Membuat Garis plot hasil prediksi\n",
    "plt.plot(X_grid, regressor.predict(X_grid), color='blue')\n",
    "\n",
    "# Menambahkan Judul\n",
    "plt.title('Jujur atau tidak (SVR)')\n",
    "\n",
    "# Menambahkan label sumbu\n",
    "plt.xlabel('Tingkat posisi')\n",
    "plt.ylabel('Gaji')\n",
    "plt.show()"
   ]
  },
  {
   "cell_type": "code",
   "execution_count": 8,
   "metadata": {},
   "outputs": [],
   "source": [
    "# Langkah 6\n",
    "# Prediksi hasil\n",
    "# Buat array 2D yang berisi tingkat posisi yang akan diprediksi\n",
    "tingkat_posisi_prediksi = np.array([[6.5]])\n",
    "# Penskalaan fitur untuk data yang akan diprediksi\n",
    "tingkat_posisi_prediksi = sc_X.transform(tingkat_posisi_prediksi)\n",
    "# Melakukan prediksi menggunakan model SVR\n",
    "gaji_prediksi = regressor.predict(tingkat_posisi_prediksi)\n",
    "# Kembalikan hasil prediksi ke skala aslinya\n",
    "gaji_prediksi = sc_y.inverse_transform(gaji_prediksi.reshape(-1, 1))"
   ]
  },
  {
   "cell_type": "code",
   "execution_count": 10,
   "metadata": {},
   "outputs": [
    {
     "name": "stdout",
     "output_type": "stream",
     "text": [
      "Prediksi Gaji untuk Tingkat Posisi 6.5: [0.01150915]\n"
     ]
    }
   ],
   "source": [
    "#Langkah 7\n",
    "# Menampilkan hasil prediksi\n",
    "print(\"Prediksi Gaji untuk Tingkat Posisi 6.5:\", gaji_prediksi[0])"
   ]
  },
  {
   "cell_type": "code",
   "execution_count": 11,
   "metadata": {},
   "outputs": [
    {
     "name": "stdout",
     "output_type": "stream",
     "text": [
      "MAE: 0.22322362280774546\n",
      "MSE: 0.24861632111450263\n",
      "RMSE: 0.49861440123055273\n",
      "R-squared: 0.7513836788854974\n"
     ]
    }
   ],
   "source": [
    "# Langkah 9\n",
    "# Evaluasi model\n",
    "from sklearn.metrics import mean_absolute_error, mean_squared_error, r2_score\n",
    "\n",
    "# Menginisalisasi variabel y_actual dan y_pred\n",
    "y_actual = y \n",
    "y_pred = regressor.predict(X)\n",
    "\n",
    "# Menghitung MAE\n",
    "mae = mean_absolute_error(y_actual, y_pred)\n",
    "\n",
    "# Menghitung MSE\n",
    "mse = mean_squared_error(y_actual, y_pred)\n",
    "\n",
    "# Menghitung RMSE\n",
    "rmse = np.sqrt(mse)\n",
    "\n",
    "# Menghitung R-squared\n",
    "r2 = r2_score(y_actual, y_pred)\n",
    "\n",
    "# Mencetak hasil matriks\n",
    "print(\"MAE:\", mae)\n",
    "print(\"MSE:\", mse)\n",
    "print(\"RMSE:\", rmse)\n",
    "print(\"R-squared:\", r2)"
   ]
  }
 ],
 "metadata": {
  "kernelspec": {
   "display_name": "base",
   "language": "python",
   "name": "python3"
  },
  "language_info": {
   "codemirror_mode": {
    "name": "ipython",
    "version": 3
   },
   "file_extension": ".py",
   "mimetype": "text/x-python",
   "name": "python",
   "nbconvert_exporter": "python",
   "pygments_lexer": "ipython3",
   "version": "3.9.7"
  },
  "orig_nbformat": 4
 },
 "nbformat": 4,
 "nbformat_minor": 2
}
